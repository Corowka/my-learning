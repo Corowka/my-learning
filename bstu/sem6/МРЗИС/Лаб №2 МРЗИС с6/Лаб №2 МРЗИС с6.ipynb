{
 "cells": [
  {
   "cell_type": "code",
   "execution_count": 1,
   "id": "04629a88",
   "metadata": {},
   "outputs": [],
   "source": [
    "from matplotlib import pyplot as plt\n",
    "import numpy as np\n",
    "from sklearn.preprocessing import StandardScaler\n",
    "from sklearn.metrics import mean_squared_error\n",
    "import pandas as pd\n",
    "from tqdm import tqdm"
   ]
  },
  {
   "cell_type": "code",
   "execution_count": 2,
   "id": "2504db2f",
   "metadata": {},
   "outputs": [],
   "source": [
    "class Autoencoder():\n",
    "    def __init__(self, input_neuron, encoding_neuron, learning_rate, alpha):\n",
    "        self.input_neuron = input_neuron\n",
    "        self.encoding_neuron = encoding_neuron\n",
    "        self.learning_rate = learning_rate\n",
    "        self.alpha = alpha\n",
    "\n",
    "        self.weights_input_encoding = np.random.rand(input_neuron, encoding_neuron)\n",
    "        self.weights_encoding_input = np.random.rand(encoding_neuron, input_neuron)\n",
    "        self.bias_encoding = np.random.rand(1, encoding_neuron)\n",
    "        self.bias_input = np.random.rand(1, input_neuron)\n",
    "\n",
    "        self.prev_delta_weights_input_encoding = np.zeros((input_neuron, encoding_neuron))\n",
    "        self.prev_delta_weights_encoding_input = np.zeros((encoding_neuron, input_neuron))\n",
    "        self.prev_delta_bias_encoding = np.zeros((1, encoding_neuron))\n",
    "        self.prev_delta_bias_input = np.zeros((1, input_neuron))\n",
    "\n",
    "        self.errors = []\n",
    "\n",
    "    def sigmoid(self, x):\n",
    "        return 1 / (1 + np.exp(-x))\n",
    "\n",
    "    def sigmoid_derivative(self, x):\n",
    "        return x * (1 - x)\n",
    "\n",
    "    def encode(self, inputs):\n",
    "        self.encoding_layer_input = np.dot(inputs, self.weights_input_encoding) + self.bias_encoding\n",
    "        self.encoding_layer_output = self.sigmoid(self.encoding_layer_input)\n",
    "\n",
    "    def decode(self, encoding_output):\n",
    "        self.input_layer_input = np.dot(encoding_output, self.weights_encoding_input) + self.bias_input\n",
    "        self.input_layer_output = self.sigmoid(self.input_layer_input)\n",
    "\n",
    "    def backward_pass(self, inputs):\n",
    "        encoding_error = inputs - self.input_layer_output\n",
    "        encoding_delta = encoding_error * self.sigmoid_derivative(self.input_layer_output)\n",
    "\n",
    "        delta_weights_encoding_input = self.learning_rate * np.dot(self.encoding_layer_output.T, encoding_delta) / inputs.shape[0] + self.alpha * self.prev_delta_weights_encoding_input\n",
    "        delta_bias_input = self.learning_rate * np.mean(encoding_delta, axis=0, keepdims=True) + self.alpha * self.prev_delta_bias_input\n",
    "\n",
    "        self.weights_encoding_input += delta_weights_encoding_input\n",
    "        self.bias_input += delta_bias_input\n",
    "\n",
    "        decoding_error = encoding_delta.dot(self.weights_encoding_input.T)\n",
    "        decoding_delta = decoding_error * self.sigmoid_derivative(self.encoding_layer_output)\n",
    "\n",
    "        delta_weights_input_encoding = self.learning_rate * np.dot(inputs.T, decoding_delta) / inputs.shape[0] + self.alpha * self.prev_delta_weights_input_encoding\n",
    "        delta_bias_encoding = self.learning_rate * np.mean(decoding_delta, axis=0, keepdims=True) + self.alpha * self.prev_delta_bias_encoding\n",
    "\n",
    "        self.weights_input_encoding += delta_weights_input_encoding\n",
    "        self.bias_encoding += delta_bias_encoding\n",
    "\n",
    "        self.prev_delta_weights_input_encoding = delta_weights_input_encoding\n",
    "        self.prev_delta_weights_encoding_input = delta_weights_encoding_input\n",
    "        self.prev_delta_bias_encoding = delta_bias_encoding\n",
    "        self.prev_delta_bias_input = delta_bias_input\n",
    "\n",
    "        mse = np.mean((inputs - self.input_layer_output) ** 2)\n",
    "        self.errors.append(mse)\n",
    "\n",
    "    def train(self, inputs, epochs=10):\n",
    "        for _ in tqdm(range(epochs)):\n",
    "            self.encode(inputs)\n",
    "            self.decode(self.encoding_layer_output)\n",
    "            self.backward_pass(inputs)\n",
    "\n",
    "    def encode_data(self, inputs_data):\n",
    "        self.encode(inputs_data)\n",
    "        return self.encoding_layer_output\n",
    "\n",
    "    def decode_data(self, encoded_data):\n",
    "        self.decode(encoded_data)\n",
    "        return self.input_layer_output"
   ]
  },
  {
   "cell_type": "code",
   "execution_count": 3,
   "id": "82500962",
   "metadata": {},
   "outputs": [
    {
     "data": {
      "text/html": [
       "<div>\n",
       "<style scoped>\n",
       "    .dataframe tbody tr th:only-of-type {\n",
       "        vertical-align: middle;\n",
       "    }\n",
       "\n",
       "    .dataframe tbody tr th {\n",
       "        vertical-align: top;\n",
       "    }\n",
       "\n",
       "    .dataframe thead th {\n",
       "        text-align: right;\n",
       "    }\n",
       "</style>\n",
       "<table border=\"1\" class=\"dataframe\">\n",
       "  <thead>\n",
       "    <tr style=\"text-align: right;\">\n",
       "      <th></th>\n",
       "      <th>0</th>\n",
       "      <th>1</th>\n",
       "      <th>2</th>\n",
       "      <th>3</th>\n",
       "      <th>4</th>\n",
       "      <th>5</th>\n",
       "      <th>6</th>\n",
       "      <th>7</th>\n",
       "      <th>8</th>\n",
       "    </tr>\n",
       "  </thead>\n",
       "  <tbody>\n",
       "    <tr>\n",
       "      <th>0</th>\n",
       "      <td>Sex</td>\n",
       "      <td>Length</td>\n",
       "      <td>Diameter</td>\n",
       "      <td>Height</td>\n",
       "      <td>Whole weight</td>\n",
       "      <td>Shucked weight</td>\n",
       "      <td>Viscera weight</td>\n",
       "      <td>Shell weight</td>\n",
       "      <td>Rings</td>\n",
       "    </tr>\n",
       "    <tr>\n",
       "      <th>1</th>\n",
       "      <td>0</td>\n",
       "      <td>0.455</td>\n",
       "      <td>0.365</td>\n",
       "      <td>0.095</td>\n",
       "      <td>0.514</td>\n",
       "      <td>0.2245</td>\n",
       "      <td>0.101</td>\n",
       "      <td>0.15</td>\n",
       "      <td>15</td>\n",
       "    </tr>\n",
       "    <tr>\n",
       "      <th>2</th>\n",
       "      <td>0</td>\n",
       "      <td>0.35</td>\n",
       "      <td>0.265</td>\n",
       "      <td>0.09</td>\n",
       "      <td>0.2255</td>\n",
       "      <td>0.0995</td>\n",
       "      <td>0.0485</td>\n",
       "      <td>0.07</td>\n",
       "      <td>7</td>\n",
       "    </tr>\n",
       "    <tr>\n",
       "      <th>3</th>\n",
       "      <td>1</td>\n",
       "      <td>0.53</td>\n",
       "      <td>0.42</td>\n",
       "      <td>0.135</td>\n",
       "      <td>0.677</td>\n",
       "      <td>0.2565</td>\n",
       "      <td>0.1415</td>\n",
       "      <td>0.21</td>\n",
       "      <td>9</td>\n",
       "    </tr>\n",
       "    <tr>\n",
       "      <th>4</th>\n",
       "      <td>0</td>\n",
       "      <td>0.44</td>\n",
       "      <td>0.365</td>\n",
       "      <td>0.125</td>\n",
       "      <td>0.516</td>\n",
       "      <td>0.2155</td>\n",
       "      <td>0.114</td>\n",
       "      <td>0.155</td>\n",
       "      <td>10</td>\n",
       "    </tr>\n",
       "  </tbody>\n",
       "</table>\n",
       "</div>"
      ],
      "text/plain": [
       "     0       1         2       3             4               5  \\\n",
       "0  Sex  Length  Diameter  Height  Whole weight  Shucked weight   \n",
       "1    0   0.455     0.365   0.095         0.514          0.2245   \n",
       "2    0    0.35     0.265    0.09        0.2255          0.0995   \n",
       "3    1    0.53      0.42   0.135         0.677          0.2565   \n",
       "4    0    0.44     0.365   0.125         0.516          0.2155   \n",
       "\n",
       "                6             7      8  \n",
       "0  Viscera weight  Shell weight  Rings  \n",
       "1           0.101          0.15     15  \n",
       "2          0.0485          0.07      7  \n",
       "3          0.1415          0.21      9  \n",
       "4           0.114         0.155     10  "
      ]
     },
     "execution_count": 3,
     "metadata": {},
     "output_type": "execute_result"
    }
   ],
   "source": [
    "df = pd.read_csv(r\"./abalone.csv\", header=None)\n",
    "df[0] = df[0].replace({'M': 0, 'F': 1, 'I': 2})\n",
    "X = df.iloc[1:, :-1].values\n",
    "df.head()"
   ]
  },
  {
   "cell_type": "code",
   "execution_count": 4,
   "id": "e1bb0316",
   "metadata": {},
   "outputs": [],
   "source": [
    "scaler = StandardScaler()\n",
    "X = scaler.fit_transform(X)"
   ]
  },
  {
   "cell_type": "code",
   "execution_count": 5,
   "id": "de7d36cc",
   "metadata": {},
   "outputs": [
    {
     "name": "stderr",
     "output_type": "stream",
     "text": [
      "100%|█████████████████████████████████████████████████████████████████████████████| 1000/1000 [00:02<00:00, 477.22it/s]"
     ]
    },
    {
     "name": "stdout",
     "output_type": "stream",
     "text": [
      "0.5840759990181555\n"
     ]
    },
    {
     "name": "stderr",
     "output_type": "stream",
     "text": [
      "\n"
     ]
    }
   ],
   "source": [
    "autoencoder = Autoencoder(input_neuron=X.shape[1], encoding_neuron=5, learning_rate=1, alpha=0.9)\n",
    "autoencoder.train(X, epochs=1000)\n",
    "X_encode_data = autoencoder.encode_data(X)\n",
    "X_decode_data = autoencoder.decode_data(X_encode_data)\n",
    "\n",
    "print(mean_squared_error(X, X_decode_data))"
   ]
  },
  {
   "cell_type": "code",
   "execution_count": 6,
   "id": "5e83f964",
   "metadata": {},
   "outputs": [
    {
     "data": {
      "image/png": "[encoded data removed]",
      "text/plain": [
       "<Figure size 640x480 with 1 Axes>"
      ]
     },
     "metadata": {},
     "output_type": "display_data"
    }
   ],
   "source": [
    "plt.plot(autoencoder.errors)\n",
    "plt.xlabel('Epochs')\n",
    "plt.ylabel('Mean Squared Error')\n",
    "plt.title('Training Error')\n",
    "plt.show()"
   ]
  },
  {
   "cell_type": "code",
   "execution_count": null,
   "id": "bfb7df27",
   "metadata": {},
   "outputs": [],
   "source": []
  }
 ],
 "metadata": {
  "kernelspec": {
   "display_name": "Python 3 (ipykernel)",
   "language": "python",
   "name": "python3"
  },
  "language_info": {
   "codemirror_mode": {
    "name": "ipython",
    "version": 3
   },
   "file_extension": ".py",
   "mimetype": "text/x-python",
   "name": "python",
   "nbconvert_exporter": "python",
   "pygments_lexer": "ipython3",
   "version": "3.11.4"
  }
 },
 "nbformat": 4,
 "nbformat_minor": 5
}
