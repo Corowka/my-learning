{
 "cells": [
  {
   "cell_type": "code",
   "execution_count": 1,
   "id": "1bbbaa839a5a5daf",
   "metadata": {
    "ExecuteTime": {
     "end_time": "2024-02-29T09:08:48.780584Z",
     "start_time": "2024-02-29T09:08:48.770314Z"
    }
   },
   "outputs": [],
   "source": [
    "# !pip install torch"
   ]
  },
  {
   "cell_type": "code",
   "execution_count": 2,
   "id": "f8af0f0b",
   "metadata": {},
   "outputs": [],
   "source": [
    "import torch\n",
    "import torch.nn as nn\n",
    "import torch.optim as optim\n",
    "\n",
    "class Autoencoder(nn.Module):\n",
    "    def __init__(self, input_size, hidden_size):\n",
    "        super(Autoencoder, self).__init__()\n",
    "        self.encoder = nn.Sequential(\n",
    "            nn.Linear(input_size, hidden_size),\n",
    "            nn.LeakyReLU()\n",
    "        )\n",
    "        self.decoder = nn.Sequential(\n",
    "            nn.Linear(hidden_size, input_size),\n",
    "            nn.LeakyReLU()\n",
    "        )\n",
    "\n",
    "    def forward(self, x):\n",
    "        x = self.encoder(x)\n",
    "        x = self.decoder(x)\n",
    "        return x"
   ]
  },
  {
   "cell_type": "code",
   "execution_count": 3,
   "id": "ed372b6d4eb6e5c7",
   "metadata": {
    "ExecuteTime": {
     "end_time": "2024-02-29T09:08:50.000722Z",
     "start_time": "2024-02-29T09:08:49.986340Z"
    }
   },
   "outputs": [],
   "source": [
    "import numpy as np\n",
    " \n",
    "def PCA(X, num_components, return_error=False):\n",
    "    X_meaned = X - np.mean(X, axis=0)\n",
    "    cov_mat = np.cov(X_meaned, rowvar=False)\n",
    "    eigen_values, eigen_vectors = np.linalg.eigh(cov_mat)\n",
    "\n",
    "    sorted_index = np.argsort(eigen_values)[::-1]\n",
    "    sorted_eigenvectors = eigen_vectors[:, sorted_index]\n",
    "\n",
    "    eigenvector_subset = sorted_eigenvectors[:, 0:num_components]\n",
    "\n",
    "    X_reduced = np.dot(eigenvector_subset.transpose(), X_meaned.transpose()).transpose()\n",
    "    if return_error:\n",
    "        X_restored = np.dot(X_reduced, eigenvector_subset.transpose()) + np.mean(X, axis=0)\n",
    "        reconstruction_error = np.mean(np.square(X - X_restored))\n",
    "        return X_reduced, reconstruction_error\n",
    "    else:\n",
    "        return X_reduced"
   ]
  },
  {
   "cell_type": "code",
   "execution_count": 4,
   "id": "3a39cc48",
   "metadata": {},
   "outputs": [
    {
     "name": "stdout",
     "output_type": "stream",
     "text": [
      "Размер обучающего набора: 1143\n"
     ]
    }
   ],
   "source": [
    "import pandas as pd\n",
    "\n",
    "df = pd.read_csv(\"./WineQT.csv\")\n",
    "X = df.iloc[:, :11].values\n",
    "y = df.iloc[:, 11].values.reshape(-1, 1)\n",
    "print(\"Размер обучающего набора:\", y.shape[0])"
   ]
  },
  {
   "cell_type": "code",
   "execution_count": 5,
   "id": "ae2784312b8e9c89",
   "metadata": {
    "ExecuteTime": {
     "end_time": "2024-02-29T09:08:51.399499Z",
     "start_time": "2024-02-29T09:08:51.387590Z"
    }
   },
   "outputs": [
    {
     "name": "stdout",
     "output_type": "stream",
     "text": [
      "Время расчёта: 0.23270630836486816\n",
      "Ошибка для PCA: 0.20201911392844002\n"
     ]
    }
   ],
   "source": [
    "from sklearn.preprocessing import StandardScaler\n",
    "import time\n",
    "\n",
    "scaler = StandardScaler()\n",
    "X_scaled = scaler.fit_transform(X)\n",
    " \n",
    "start_time = time.time()\n",
    "X_pca, pca_error = PCA(X_scaled, 5, return_error=True)\n",
    "end_time =  time.time()\n",
    "\n",
    "print(\"Время расчёта:\", end_time - start_time)\n",
    "print(\"Ошибка для PCA:\", pca_error)"
   ]
  },
  {
   "cell_type": "code",
   "execution_count": 6,
   "id": "d8d24af6867db462",
   "metadata": {
    "ExecuteTime": {
     "end_time": "2024-02-29T09:08:57.378346Z",
     "start_time": "2024-02-29T09:08:53.127724Z"
    }
   },
   "outputs": [],
   "source": [
    "input_size = X_scaled.shape[1]\n",
    "hidden_size = 5\n",
    "\n",
    "autoencoder = Autoencoder(input_size, hidden_size)\n",
    "criterion = nn.MSELoss()\n",
    "optimizer = optim.Adam(autoencoder.parameters(), lr=0.001)\n",
    "\n",
    "num_epochs = 100\n",
    "batch_size = 16\n",
    "\n",
    "X_torch = torch.tensor(X_scaled, dtype=torch.float32)\n",
    "\n",
    "loss_torch = []\n",
    "for epoch in range(num_epochs):\n",
    "    loss_epoch = 0\n",
    "    for i in range(0, len(X_torch), batch_size):\n",
    "        batch_x = X_torch[i:i+batch_size]\n",
    "        output = autoencoder(batch_x)\n",
    "        loss = criterion(output, batch_x)\n",
    "        loss_epoch += loss.item()\n",
    "        optimizer.zero_grad()\n",
    "        loss.backward()\n",
    "        optimizer.step()\n",
    "    loss_torch.append(loss_epoch) "
   ]
  },
  {
   "cell_type": "code",
   "execution_count": 7,
   "id": "8aeb0cfc6439d3b1",
   "metadata": {},
   "outputs": [
    {
     "data": {
      "image/png": "[encoded data removed]",
      "text/plain": [
       "<Figure size 640x480 with 1 Axes>"
      ]
     },
     "metadata": {},
     "output_type": "display_data"
    }
   ],
   "source": [
    "import matplotlib.pyplot as plt\n",
    "\n",
    "plt.plot(np.arange(num_epochs), loss_torch)\n",
    "plt.title('График обучения Autoencoder')\n",
    "plt.xlabel('Epoch')\n",
    "plt.ylabel('Loss')\n",
    "plt.show()"
   ]
  },
  {
   "cell_type": "code",
   "execution_count": 8,
   "id": "d4207731",
   "metadata": {},
   "outputs": [
    {
     "name": "stdout",
     "output_type": "stream",
     "text": [
      "Время расчёта: 0.006001949310302734\n",
      "Ошибка для автоэнкодера: 0.43857613729049194\n"
     ]
    }
   ],
   "source": [
    "start_time = time.time()\n",
    "with torch.no_grad():\n",
    "    X_torch_restored = autoencoder(X_torch).numpy()\n",
    "end_time = time.time()\n",
    "\n",
    "print(\"Время расчёта:\", end_time - start_time)\n",
    "autoencoder_error = np.mean((X_scaled - X_torch_restored) ** 2)\n",
    "print(\"Ошибка для автоэнкодера:\", autoencoder_error)"
   ]
  },
  {
   "cell_type": "code",
   "execution_count": null,
   "id": "cb1c99ea",
   "metadata": {},
   "outputs": [],
   "source": []
  }
 ],
 "metadata": {
  "kernelspec": {
   "display_name": "Python 3 (ipykernel)",
   "language": "python",
   "name": "python3"
  },
  "language_info": {
   "codemirror_mode": {
    "name": "ipython",
    "version": 3
   },
   "file_extension": ".py",
   "mimetype": "text/x-python",
   "name": "python",
   "nbconvert_exporter": "python",
   "pygments_lexer": "ipython3",
   "version": "3.11.4"
  }
 },
 "nbformat": 4,
 "nbformat_minor": 5
}
