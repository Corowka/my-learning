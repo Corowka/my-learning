{
 "cells": [
  {
   "cell_type": "code",
   "execution_count": 740,
   "id": "f6ac570f",
   "metadata": {},
   "outputs": [],
   "source": [
    "import random\n",
    "from sympy import isprime\n",
    "from sympy import randprime\n",
    "from sympy import legendre_symbol\n",
    "from sympy import mod_inverse\n",
    "\n",
    "class RabinSignature:\n",
    "    \n",
    "    def __init__(self, bits):\n",
    "        self.bits = bits\n",
    "    \n",
    "    def get_keys(self):\n",
    "        p = RabinSignature.generate_prime_with_mod_condition(4, 3, self.bits)\n",
    "        q = RabinSignature.generate_prime_with_mod_condition(4, 3, self.bits)\n",
    "        n = p * q\n",
    "        return(p, q, n)\n",
    "        \n",
    "    @staticmethod\n",
    "    def hash(m, p):\n",
    "        m = int(''.join(format(ord(char), '08b') for char in m), 2)\n",
    "        return pow(m, 2, p)\n",
    "        \n",
    "        \n",
    "    @staticmethod\n",
    "    def generate_prime_with_mod_condition(mod_div, mod_value, num_bits):\n",
    "        while True:\n",
    "            candidate = random.getrandbits(num_bits)\n",
    "            candidate |= 1\n",
    "            if candidate % mod_div == mod_value and isprime(candidate):\n",
    "                return candidate\n",
    "          \n",
    "    @staticmethod\n",
    "    def generate_random_prime(num_bits):\n",
    "        while True:\n",
    "            prime_number = randprime(2**(num_bits-1), 2**num_bits - 1)\n",
    "            if prime_number:\n",
    "                return prime_number\n",
    "    \n",
    "    def calc_x(self, m, p, q, n, u, h):\n",
    "        lp = legendre_symbol(h, p)\n",
    "        lq = legendre_symbol(h, q)\n",
    "        xp = h ** (p // 2)\n",
    "        xq = h ** (q // 2)\n",
    "        while lp + lq != 2 and (xp <= 1 or xq <= 1):\n",
    "            u = random.getrandbits(self.bits)\n",
    "            h = RabinSignature.hash(m, u)\n",
    "            lp = legendre_symbol(h, p)\n",
    "            lq = legendre_symbol(h, q)\n",
    "            xp = h ** (p // 2)\n",
    "            xq = h ** (q // 2)\n",
    "        mp = n / p\n",
    "        mq = n / q\n",
    "        yp = mod_inverse(pow(mp, -1), p)\n",
    "        yq = mod_inverse(pow(mq, -1), q)\n",
    "        x1 = xp * mp * yp % n \n",
    "        x2 = xq * mq * yq % n\n",
    "        x = int(x1 + x2)\n",
    "        return x\n",
    "        \n",
    "    def sign(self, m, public_keys):\n",
    "        p, q, n = public_keys\n",
    "        u = random.getrandbits(self.bits)\n",
    "        while u <= 1:\n",
    "            u = random.getrandbits(self.bits)\n",
    "        h = RabinSignature.hash(m, u)\n",
    "        x = self.calc_x(m, p, q, n, u, h)\n",
    "        return (u, x)\n",
    "        \n",
    "    \n",
    "    def verify(self, m, private_keys, public_keys):\n",
    "        p, q, n = private_keys\n",
    "        if (not isprime(p) or not isprime(q)):\n",
    "            return False\n",
    "        u, x = public_keys\n",
    "        h = RabinSignature.hash(m, u)\n",
    "        v = self.calc_x(m, p, q, n, u, h)\n",
    "        return x == v\n",
    "    "
   ]
  },
  {
   "cell_type": "code",
   "execution_count": 747,
   "id": "a0711527",
   "metadata": {},
   "outputs": [
    {
     "name": "stdout",
     "output_type": "stream",
     "text": [
      "[1, 1, 0, 0, 1, 0, 1, 1, 1, 1, 1, 1, 1, 1, 1, 1, 0, 1, 0, 1, 1, 1, 1, 1, 0, 1, 1, 0, 1, 1, 0, 1, 0, 0, 1, 1, 1, 1, 0, 1, 1, 1, 1, 1, 1, 1, 1, 1, 1, 1, 1, 1, 0, 1, 1, 1, 1, 1, 1, 1, 1, 1, 1, 1, 1, 1, 1, 1, 1, 1, 1, 1, 1, 1, 1, 1, 1, 1, 1, 1, 1, 1, 1, 1, 1, 1, 1, 1, 1, 0, 1, 1, 1, 1, 0, 1, 1, 1, 1, 1, 1, 1, 1, 1, 1, 1, 1, 1, 1, 1, 1, 1, 1, 1, 1, 1, 1, 0, 1, 1, 1, 1, 1, 1, 1, 1, 1, 1, 1, 1, 1, 1, 1, 1, 1, 1, 0, 1, 1, 1, 1, 1, 1, 1, 1, 1, 1, 1, 1, 1, 1, 1, 1, 0, 1, 0, 0, 1, 1, 1, 1, 1, 1, 1, 1, 1, 1, 1, 0, 1, 0, 1, 1, 1, 1, 1, 1, 0, 1, 1, 1, 1, 1, 1, 1, 1, 1, 1, 1, 1, 1, 0, 1, 1, 1, 1, 0, 1, 1, 0, 1, 1, 1, 1, 1, 1, 1, 1, 1, 1, 1, 1, 1, 1, 1, 0, 1, 1, 1, 1, 1, 1, 0, 1, 1, 1, 1, 1, 1, 1, 1, 1, 1, 1, 1, 1, 1, 0, 1, 1, 1, 1, 1, 1, 1, 1, 0, 1, 1, 1, 1, 1, 1, 1, 1, 1, 1, 1, 1, 1, 1, 1, 1, 1, 1, 1, 1, 0, 1, 1, 1, 1, 1, 1, 1, 1, 0, 1, 1, 1, 1, 1, 1, 1, 1, 1, 1, 1, 1, 1, 0, 1, 1, 0, 1, 1, 1, 1, 1, 0, 1, 1, 1, 1, 1, 1, 1, 1, 1, 1, 1, 1, 1, 1, 1, 1, 1, 1, 1, 1, 1, 1, 1, 1, 1, 1, 1, 1, 1, 1, 1, 1, 1, 1, 1, 1, 1, 1, 1, 1, 1, 1, 1, 1, 1, 1, 1, 1, 1, 0, 1, 1, 1, 1, 1, 1, 1, 1, 0, 1, 1, 1, 1, 1, 1, 1, 1, 1, 1, 1, 0, 1, 1, 0, 1, 1, 1, 1, 1, 1, 1, 1, 0, 1, 1, 1, 1, 1, 1, 1, 1, 1, 1, 1, 0, 1, 1, 1, 1, 1, 1, 1, 1, 1, 1, 1, 1, 1, 1, 1, 1, 1, 1, 1, 1, 1, 0, 1, 1, 1, 1, 1, 1, 0, 1, 1, 0, 1, 1, 1, 1, 1, 1, 1, 1, 1, 0, 1, 1, 1, 1, 1, 1, 1, 1, 1, 0, 1, 1, 1, 1, 0, 1, 1, 1, 1, 1, 1, 1, 1, 1, 1, 1, 1, 1, 1, 1, 1, 1, 1, 1, 0, 1, 1, 1, 1, 1, 1, 1, 1, 1, 1, 1, 1, 1, 1, 1, 1, 1, 1, 1, 1, 1, 1, 1, 1, 1, 1, 1, 1, 1, 1, 1, 1, 1, 1, 1, 1, 1, 1, 1, 1, 1, 1, 1, 1, 1, 0, 1, 1, 1, 1, 1, 1, 0, 1, 1, 1, 1, 1, 1, 1, 1, 1, 1, 1, 1, 1, 1, 1, 1, 1, 1, 0, 1, 1, 0, 1, 1, 1, 1, 1, 1, 1, 1, 1, 1, 1, 1, 1, 1, 1, 1, 1, 1, 1, 1, 1, 1, 1, 1, 1, 1, 1, 1, 1, 1, 1, 1, 1, 1, 1, 1, 1, 1, 1, 1, 0, 1, 0, 1, 1, 1, 1, 1, 1, 0, 1, 1, 1, 1, 1, 1, 1, 1, 1, 1, 1, 1, 1, 1, 1, 1, 1, 0, 1, 1, 1, 0, 1, 1, 0, 1, 0, 1, 1, 1, 1, 1, 1, 1, 1, 1, 1, 1, 1, 1, 1, 1, 1, 1, 1, 1, 1, 0, 1, 1, 1, 1, 1, 1, 1, 1, 1, 1, 1, 1, 1, 1, 1, 0, 1, 1, 1, 1, 1, 1, 1, 0, 1, 1, 1, 1, 1, 1, 1, 1, 1, 1, 1, 1, 1, 1, 1, 1, 1, 1, 1, 1, 1, 1, 1, 1, 0, 1, 1, 1, 1, 1, 1, 1, 0, 1, 1, 1, 1, 1, 1, 1, 1, 1, 1, 0, 1, 1, 1, 0, 0, 0, 1, 0, 1, 1, 1, 1, 1, 1, 1, 1, 1, 1, 1, 1, 0, 1, 1, 1, 1, 1, 1, 1, 1, 1, 1, 1, 1, 0, 1, 1, 1, 1, 1, 0, 1, 1, 1, 1, 1, 1, 1, 1, 1, 1, 1, 1, 1, 0, 1, 0, 1, 1, 1, 1, 0, 1, 1, 1, 1, 1, 1, 1, 1, 1, 1, 1, 1, 1, 1, 1, 0, 1, 1, 1, 1, 1, 1, 1, 1, 1, 0, 1, 1, 1, 1, 1, 1, 1, 1, 1, 1, 1, 1, 1, 0, 1, 1, 0, 1, 1, 1, 1, 1, 1, 0, 1, 1, 1, 1, 1, 1, 1, 1, 0, 1, 1, 1, 1, 1, 1, 1, 1, 1, 1, 1, 1, 1, 1, 1, 1, 1, 1, 1, 1, 1, 1, 1, 1, 1, 1, 1, 1, 1, 1, 1, 1, 0, 1, 1, 1, 1, 1, 1, 1, 1, 1, 1, 1, 1, 1, 1, 1, 1, 1, 1, 1, 1, 1, 1, 1, 1, 1, 1, 1, 1, 1, 1, 1, 1, 1, 1, 1, 1, 1, 1, 1, 1, 1, 1, 1, 1, 1, 1, 0, 1, 1, 1, 1, 1, 1, 0, 1, 1, 0, 1, 1, 1, 1, 1, 1, 1, 1, 1, 1, 1, 1, 1, 1, 1, 1, 1, 1, 1, 1, 1, 1, 1, 1, 1, 1, 1, 1, 1, 1, 1, 1, 1, 1, 1, 1, 1, 1, 1, 1, 1, 1, 1, 1, 1, 1, 1, 1, 1, 1, 1, 1, 1, 1, 1, 1, 1, 1, 1, 1, 1, 1, 1, 0, 1, 1, 1, 1, 0, 1, 0, 1, 1, 1, 1, 0, 1]\n"
     ]
    }
   ],
   "source": [
    "alg = RabinSignature(8)\n",
    "t = []\n",
    "for i in range(1000):\n",
    "    private_keys = alg.get_keys()\n",
    "    public_keys = alg.sign('hello world', private_keys)\n",
    "    t.append(int(alg.verify('hello world', private_keys, public_keys)))\n",
    "print(t)"
   ]
  },
  {
   "cell_type": "code",
   "execution_count": null,
   "id": "0755c046",
   "metadata": {},
   "outputs": [],
   "source": []
  }
 ],
 "metadata": {
  "kernelspec": {
   "display_name": "Python 3 (ipykernel)",
   "language": "python",
   "name": "python3"
  },
  "language_info": {
   "codemirror_mode": {
    "name": "ipython",
    "version": 3
   },
   "file_extension": ".py",
   "mimetype": "text/x-python",
   "name": "python",
   "nbconvert_exporter": "python",
   "pygments_lexer": "ipython3",
   "version": "3.11.4"
  }
 },
 "nbformat": 4,
 "nbformat_minor": 5
}
