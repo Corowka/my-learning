{
 "cells": [
  {
   "cell_type": "code",
   "execution_count": 22,
   "id": "2c421d4c",
   "metadata": {},
   "outputs": [],
   "source": [
    "import numpy as np"
   ]
  },
  {
   "cell_type": "code",
   "execution_count": 23,
   "id": "d37df04d",
   "metadata": {},
   "outputs": [
    {
     "name": "stdout",
     "output_type": "stream",
     "text": [
      "[[ 1  1 -1 -1  1  1 -1 -1  1  1 -1 -1  1  1 -1 -1  1  1]\n",
      " [-1 -1 -1  1  1  1 -1 -1 -1  1  1  1 -1 -1 -1  1  1  1]\n",
      " [-1 -1 -1 -1  1  1  1  1 -1 -1 -1 -1  1  1  1  1 -1 -1]]\n"
     ]
    }
   ],
   "source": [
    "X = np.matrix([[ 1, 1,-1,-1, 1, 1,-1,-1, 1, 1,-1,-1, 1, 1,-1,-1, 1, 1],\n",
    "               [-1,-1,-1, 1, 1, 1,-1,-1,-1, 1, 1, 1,-1,-1,-1, 1, 1, 1],\n",
    "               [-1,-1,-1,-1, 1, 1, 1, 1,-1,-1,-1,-1, 1, 1, 1, 1,-1,-1]])\n",
    "print(X)"
   ]
  },
  {
   "cell_type": "code",
   "execution_count": 24,
   "id": "d4eb0521",
   "metadata": {},
   "outputs": [
    {
     "name": "stdout",
     "output_type": "stream",
     "text": [
      "[[ 1 -1  1 -1]\n",
      " [ 1  1 -1 -1]\n",
      " [-1 -1 -1 -1]]\n"
     ]
    }
   ],
   "source": [
    "y = np.matrix([[ 1,-1, 1,-1],\n",
    "               [ 1, 1,-1,-1],\n",
    "               [-1,-1,-1,-1]])         \n",
    "print(y)"
   ]
  },
  {
   "cell_type": "code",
   "execution_count": 25,
   "id": "126fc899",
   "metadata": {},
   "outputs": [
    {
     "name": "stdout",
     "output_type": "stream",
     "text": [
      "[[ 1 -1  3  1]\n",
      " [ 1 -1  3  1]\n",
      " [-1  1  1  3]\n",
      " [ 1  3 -1  1]\n",
      " [ 1 -1 -1 -3]\n",
      " [ 1 -1 -1 -3]\n",
      " [-3 -1 -1  1]\n",
      " [-3 -1 -1  1]\n",
      " [ 1 -1  3  1]\n",
      " [ 3  1  1 -1]\n",
      " [ 1  3 -1  1]\n",
      " [ 1  3 -1  1]\n",
      " [-1 -3  1 -1]\n",
      " [-1 -3  1 -1]\n",
      " [-3 -1 -1  1]\n",
      " [-1  1 -3 -1]\n",
      " [ 3  1  1 -1]\n",
      " [ 3  1  1 -1]]\n"
     ]
    }
   ],
   "source": [
    "w = X.T * y\n",
    "print(w)"
   ]
  },
  {
   "cell_type": "code",
   "execution_count": 60,
   "id": "e4b23f34",
   "metadata": {},
   "outputs": [],
   "source": [
    "def y_(X, w):\n",
    "    y = np.dot(X, w)\n",
    "    y[y <= 0] = -1\n",
    "    y[y > 0] = 1\n",
    "    return np.array(y)"
   ]
  },
  {
   "cell_type": "code",
   "execution_count": 61,
   "id": "23413796",
   "metadata": {},
   "outputs": [],
   "source": [
    "def X_(y, w):\n",
    "    X= np.dot(y, w.T)\n",
    "    X[X <= 0] = -1\n",
    "    X[X > 0] = 1\n",
    "    return np.array(X)"
   ]
  },
  {
   "cell_type": "code",
   "execution_count": 70,
   "id": "970c1501",
   "metadata": {},
   "outputs": [],
   "source": [
    "def find_y(X, w):\n",
    "    y_prev = y_(X, w)\n",
    "    X_new = X_(y_prev, w)\n",
    "    y = y_(X_new, w)\n",
    "    while y_prev.any() != y.any():\n",
    "        y_prev = y\n",
    "        X_new = X_(y_prev, w)\n",
    "        y = y_(X_new, w)\n",
    "    return np.array(y)"
   ]
  },
  {
   "cell_type": "code",
   "execution_count": 77,
   "id": "59439a21",
   "metadata": {},
   "outputs": [],
   "source": [
    "def find_X(y, w):\n",
    "    X_prev = X_(y, w)\n",
    "    y_new = y_(X_prev, w)\n",
    "    X = X_(y_new, w)\n",
    "    while X_prev.any() != X.any():\n",
    "        X_prev = X\n",
    "        y_new = y_(X_prev, w)\n",
    "        X = X_(y_new, w)\n",
    "    return np.array(X)"
   ]
  },
  {
   "cell_type": "code",
   "execution_count": 80,
   "id": "606d7062",
   "metadata": {},
   "outputs": [
    {
     "name": "stdout",
     "output_type": "stream",
     "text": [
      "[[ 1 -1  1 -1]] -- [[ 1 -1  1 -1]]\n",
      "[[ 1  1 -1 -1]] -- [[ 1  1 -1 -1]]\n",
      "[[-1 -1 -1 -1]] -- [[-1 -1 -1 -1]]\n"
     ]
    }
   ],
   "source": [
    "print(f\"{find_y(X[0], w)} -- {y[0]}\")\n",
    "print(f\"{find_y(X[1], w)} -- {y[1]}\")\n",
    "print(f\"{find_y(X[2], w)} -- {y[2]}\")"
   ]
  },
  {
   "cell_type": "code",
   "execution_count": 81,
   "id": "d3d0471a",
   "metadata": {},
   "outputs": [
    {
     "name": "stdout",
     "output_type": "stream",
     "text": [
      "[[ 1  1 -1 -1  1  1 -1 -1  1  1 -1 -1  1  1 -1 -1  1  1]] -- [[ 1  1 -1 -1  1  1 -1 -1  1  1 -1 -1  1  1 -1 -1  1  1]]\n",
      "[[-1 -1 -1  1  1  1 -1 -1 -1  1  1  1 -1 -1 -1  1  1  1]] -- [[-1 -1 -1  1  1  1 -1 -1 -1  1  1  1 -1 -1 -1  1  1  1]]\n",
      "[[-1 -1 -1 -1  1  1  1  1 -1 -1 -1 -1  1  1  1  1 -1 -1]] -- [[-1 -1 -1 -1  1  1  1  1 -1 -1 -1 -1  1  1  1  1 -1 -1]]\n"
     ]
    }
   ],
   "source": [
    "print(f\"{find_X(y[0], w)} -- {X[0]}\")\n",
    "print(f\"{find_X(y[1], w)} -- {X[1]}\")\n",
    "print(f\"{find_X(y[2], w)} -- {X[2]}\")"
   ]
  },
  {
   "cell_type": "code",
   "execution_count": 82,
   "id": "a8eb0687",
   "metadata": {},
   "outputs": [
    {
     "name": "stdout",
     "output_type": "stream",
     "text": [
      "[[ 1 -1  1 -1]] -- [[ 1 -1  1 -1]]\n",
      "[[ 1  1 -1 -1]] -- [[ 1  1 -1 -1]]\n",
      "[[-1 -1 -1 -1]] -- [[-1 -1 -1 -1]]\n"
     ]
    }
   ],
   "source": [
    "print(f\"{find_y([ 1,-1,-1,-1, 1, 1,-1,-1, 1, 1,-1,-1, 1, 1,-1,-1, 1, 1], w)} -- {y[0]}\")\n",
    "print(f\"{find_y([-1, 1,-1, 1, 1, 1,-1,-1,-1, 1, 1, 1,-1,-1,-1, 1, 1, 1], w)} -- {y[1]}\")\n",
    "print(f\"{find_y([-1, 1,-1,-1, 1, 1, 1, 1,-1,-1,-1,-1, 1, 1, 1, 1,-1,-1], w)} -- {y[2]}\")"
   ]
  },
  {
   "cell_type": "code",
   "execution_count": 84,
   "id": "92c058cd",
   "metadata": {},
   "outputs": [
    {
     "name": "stdout",
     "output_type": "stream",
     "text": [
      "[[ 1  1 -1  1  1  1 -1 -1  1  1  1  1 -1 -1 -1 -1  1  1]] -- [[ 1  1 -1 -1  1  1 -1 -1  1  1 -1 -1  1  1 -1 -1  1  1]]\n",
      "[[-1 -1 -1 -1  1  1 -1 -1 -1  1 -1 -1  1  1 -1  1  1  1]] -- [[-1 -1 -1  1  1  1 -1 -1 -1  1  1  1 -1 -1 -1  1  1  1]]\n",
      "[[-1 -1 -1  1  1  1  1  1 -1 -1  1  1 -1 -1  1  1 -1 -1]] -- [[-1 -1 -1 -1  1  1  1  1 -1 -1 -1 -1  1  1  1  1 -1 -1]]\n"
     ]
    }
   ],
   "source": [
    "print(f\"{find_X([ 1, 1, 1,-1], w)} -- {X[0]}\")\n",
    "print(f\"{find_X([ 1,-1,-1,-1], w)} -- {X[1]}\")\n",
    "print(f\"{find_X([-1, 1,-1,-1], w)} -- {X[2]}\")"
   ]
  },
  {
   "cell_type": "code",
   "execution_count": 99,
   "id": "79c7e6b1",
   "metadata": {},
   "outputs": [
    {
     "name": "stdout",
     "output_type": "stream",
     "text": [
      "10.0\n"
     ]
    }
   ],
   "source": [
    "m = 4\n",
    "L = m / (4 * np.log(m))\n",
    "print()\n",
    "\n",
    "print(np.log(np.exp(10)))"
   ]
  },
  {
   "cell_type": "code",
   "execution_count": null,
   "id": "16849549",
   "metadata": {},
   "outputs": [],
   "source": []
  }
 ],
 "metadata": {
  "kernelspec": {
   "display_name": "Python 3 (ipykernel)",
   "language": "python",
   "name": "python3"
  },
  "language_info": {
   "codemirror_mode": {
    "name": "ipython",
    "version": 3
   },
   "file_extension": ".py",
   "mimetype": "text/x-python",
   "name": "python",
   "nbconvert_exporter": "python",
   "pygments_lexer": "ipython3",
   "version": "3.9.13"
  }
 },
 "nbformat": 4,
 "nbformat_minor": 5
}
